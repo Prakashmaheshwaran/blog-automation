{
 "cells": [
  {
   "cell_type": "code",
   "execution_count": null,
   "id": "b0f47f5c",
   "metadata": {
    "_cell_guid": "0017ab48-2eae-430f-96b1-d93294bb0b85",
    "_uuid": "5368f4de-4601-492d-be8b-1cbe5cb823da",
    "collapsed": false,
    "execution": {
     "iopub.execute_input": "2024-01-25T18:31:45.573184Z",
     "iopub.status.busy": "2024-01-25T18:31:45.572202Z",
     "iopub.status.idle": "2024-01-25T18:32:43.593213Z",
     "shell.execute_reply": "2024-01-25T18:32:43.592125Z"
    },
    "jupyter": {
     "outputs_hidden": false
    },
    "papermill": {
     "duration": 58.031647,
     "end_time": "2024-01-25T18:32:43.595981",
     "exception": false,
     "start_time": "2024-01-25T18:31:45.564334",
     "status": "completed"
    },
    "tags": []
   },
   "outputs": [],
   "source": [
    "!pip install youtube-transcript-api\n",
    "!pip install pexels-api\n",
    "!pip install google-generativeai\n",
    "!pip install google-api-python-client"
   ]
  },
  {
   "cell_type": "code",
   "execution_count": null,
   "id": "09ee2db6",
   "metadata": {
    "execution": {
     "iopub.execute_input": "2024-01-25T18:32:43.612228Z",
     "iopub.status.busy": "2024-01-25T18:32:43.611117Z",
     "iopub.status.idle": "2024-01-25T18:32:46.917809Z",
     "shell.execute_reply": "2024-01-25T18:32:46.916807Z"
    },
    "papermill": {
     "duration": 3.317645,
     "end_time": "2024-01-25T18:32:46.920544",
     "exception": false,
     "start_time": "2024-01-25T18:32:43.602899",
     "status": "completed"
    },
    "tags": []
   },
   "outputs": [],
   "source": [
    "from googleapiclient.discovery import build\n",
    "from datetime import datetime, timedelta\n",
    "import pytz,time\n",
    "from youtube_transcript_api import YouTubeTranscriptApi\n",
    "import requests,random\n",
    "import markdown\n",
    "import google.generativeai as genai\n",
    "from pexels_api import API\n",
    "import nltk\n",
    "from nltk.tokenize import word_tokenize\n",
    "from nltk import pos_tag\n",
    "from kaggle_secrets import UserSecretsClient\n",
    "import pandas as pd\n",
    "import random"
   ]
  },
  {
   "cell_type": "code",
   "execution_count": null,
   "id": "527c7284",
   "metadata": {
    "execution": {
     "iopub.execute_input": "2024-01-25T18:32:46.935485Z",
     "iopub.status.busy": "2024-01-25T18:32:46.934893Z",
     "iopub.status.idle": "2024-01-25T18:32:49.682610Z",
     "shell.execute_reply": "2024-01-25T18:32:49.681355Z"
    },
    "papermill": {
     "duration": 2.758122,
     "end_time": "2024-01-25T18:32:49.685193",
     "exception": false,
     "start_time": "2024-01-25T18:32:46.927071",
     "status": "completed"
    },
    "tags": []
   },
   "outputs": [],
   "source": [
    "user_secrets = UserSecretsClient()\n",
    "gemini_1 = user_secrets.get_secret(\"gemini_1\")\n",
    "gemini_2 = user_secrets.get_secret(\"gemini_2\")\n",
    "pexels_api = user_secrets.get_secret(\"pexels api\")\n",
    "username = user_secrets.get_secret(\"wordpress username\")\n",
    "password = user_secrets.get_secret(\"wordpress password\")\n",
    "youtube_api_key = user_secrets.get_secret(\"youtube_api_key\")\n",
    "\n",
    "pexels_api = API(pexels_api)\n",
    "nltk.download('punkt')\n",
    "nltk.download('averaged_perceptron_tagger')\n",
    "url = 'https://dynoxglobal.com/wp-json/wp/v2/posts'\n",
    "\n",
    "youtube = build('youtube', 'v3', developerKey=youtube_api_key)\n",
    "file_path = '/kaggle/input/blog-topics/Dynox_topics.csv'"
   ]
  },
  {
   "cell_type": "code",
   "execution_count": null,
   "id": "6c36cd41",
   "metadata": {
    "execution": {
     "iopub.execute_input": "2024-01-25T18:32:49.699945Z",
     "iopub.status.busy": "2024-01-25T18:32:49.699563Z",
     "iopub.status.idle": "2024-01-25T18:32:49.709423Z",
     "shell.execute_reply": "2024-01-25T18:32:49.708471Z"
    },
    "papermill": {
     "duration": 0.019841,
     "end_time": "2024-01-25T18:32:49.711714",
     "exception": false,
     "start_time": "2024-01-25T18:32:49.691873",
     "status": "completed"
    },
    "tags": []
   },
   "outputs": [],
   "source": [
    "def youtube_search(query, max_results=500):\n",
    "    videos_processed = 0\n",
    "    next_page_token = None\n",
    "    video_titles, video_ids = [], []\n",
    "\n",
    "    while videos_processed < max_results:\n",
    "        # Make a request to the API with pagination.\n",
    "        search_response = youtube.search().list(\n",
    "            q=query,\n",
    "            part='id,snippet',\n",
    "            maxResults=min(50, max_results - videos_processed),  # Maximum results per request is 50.\n",
    "            order='viewCount',\n",
    "            pageToken=next_page_token\n",
    "        ).execute()\n",
    "\n",
    "        for search_result in search_response.get('items', []):\n",
    "            if search_result['id']['kind'] == 'youtube#video':\n",
    "                title = search_result['snippet']['title']\n",
    "                video_id = search_result['id']['videoId']\n",
    "                video_titles.append(title)\n",
    "                video_ids.append(video_id)\n",
    "                print(f\"Title: {title}, Video ID: {video_id}\")\n",
    "\n",
    "                videos_processed += 1\n",
    "                if videos_processed == max_results:\n",
    "                    break\n",
    "\n",
    "        # Check if there are more results to fetch.\n",
    "        next_page_token = search_response.get('nextPageToken')\n",
    "        if not next_page_token:\n",
    "            break\n",
    "\n",
    "    return video_titles, video_ids"
   ]
  },
  {
   "cell_type": "code",
   "execution_count": null,
   "id": "15e361d6",
   "metadata": {
    "execution": {
     "iopub.execute_input": "2024-01-25T18:32:49.726228Z",
     "iopub.status.busy": "2024-01-25T18:32:49.725872Z",
     "iopub.status.idle": "2024-01-25T18:32:49.731690Z",
     "shell.execute_reply": "2024-01-25T18:32:49.730602Z"
    },
    "papermill": {
     "duration": 0.015584,
     "end_time": "2024-01-25T18:32:49.733743",
     "exception": false,
     "start_time": "2024-01-25T18:32:49.718159",
     "status": "completed"
    },
    "tags": []
   },
   "outputs": [],
   "source": [
    "def find_important_words(text):\n",
    "    \"\"\"Find important words (nouns) in the text.\"\"\"\n",
    "    words = word_tokenize(text)\n",
    "    tagged_words = pos_tag(words)\n",
    "    important_words = [word for word, tag in tagged_words if tag in ['NN', 'NNS', 'NNP', 'NNPS']]\n",
    "    return important_words"
   ]
  },
  {
   "cell_type": "code",
   "execution_count": null,
   "id": "ca7c11dd",
   "metadata": {
    "execution": {
     "iopub.execute_input": "2024-01-25T18:32:49.748534Z",
     "iopub.status.busy": "2024-01-25T18:32:49.747647Z",
     "iopub.status.idle": "2024-01-25T18:32:49.754149Z",
     "shell.execute_reply": "2024-01-25T18:32:49.753146Z"
    },
    "papermill": {
     "duration": 0.016464,
     "end_time": "2024-01-25T18:32:49.756588",
     "exception": false,
     "start_time": "2024-01-25T18:32:49.740124",
     "status": "completed"
    },
    "tags": []
   },
   "outputs": [],
   "source": [
    "def retrieve_image(query):\n",
    "    \"\"\"Retrieve an image related to the query from Pexels.\"\"\"\n",
    "    pexels_api.search(query, page=1, results_per_page=10)\n",
    "    photos = pexels_api.get_entries()\n",
    "    if photos:\n",
    "        rax = random.randint(0, len(photos)-1)\n",
    "        return photos[rax].original\n",
    "    else:\n",
    "        return \"No image found.\""
   ]
  },
  {
   "cell_type": "code",
   "execution_count": null,
   "id": "373f848d",
   "metadata": {
    "execution": {
     "iopub.execute_input": "2024-01-25T18:32:49.772261Z",
     "iopub.status.busy": "2024-01-25T18:32:49.771891Z",
     "iopub.status.idle": "2024-01-25T18:32:49.778308Z",
     "shell.execute_reply": "2024-01-25T18:32:49.777219Z"
    },
    "papermill": {
     "duration": 0.016817,
     "end_time": "2024-01-25T18:32:49.780648",
     "exception": false,
     "start_time": "2024-01-25T18:32:49.763831",
     "status": "completed"
    },
    "tags": []
   },
   "outputs": [],
   "source": [
    "def get_transcription(video_id):\n",
    "    \"\"\"Get the transcription of a video given its ID.\"\"\"\n",
    "    try:\n",
    "        transcript_list = YouTubeTranscriptApi.get_transcript(video_id,languages=['en'])\n",
    "    except Exception as e:\n",
    "        print(\"An error occurred while fetching the transcript:\")\n",
    "        return \"\"\n",
    "\n",
    "    full_script = ' '.join(segment['text'] for segment in transcript_list)\n",
    "    return full_script"
   ]
  },
  {
   "cell_type": "code",
   "execution_count": null,
   "id": "67d4134a",
   "metadata": {
    "execution": {
     "iopub.execute_input": "2024-01-25T18:32:49.795341Z",
     "iopub.status.busy": "2024-01-25T18:32:49.794961Z",
     "iopub.status.idle": "2024-01-25T18:32:49.802766Z",
     "shell.execute_reply": "2024-01-25T18:32:49.801713Z"
    },
    "papermill": {
     "duration": 0.01786,
     "end_time": "2024-01-25T18:32:49.805037",
     "exception": false,
     "start_time": "2024-01-25T18:32:49.787177",
     "status": "completed"
    },
    "tags": []
   },
   "outputs": [],
   "source": [
    "def generate_content(prompt, token):\n",
    "    \"\"\"Generate content using GenAI.\"\"\"\n",
    "    generation_config = {\n",
    "        \"temperature\": 0.9,\n",
    "        \"top_p\": 1,\n",
    "        \"top_k\": 1,\n",
    "        \"max_output_tokens\": token,\n",
    "    }\n",
    "    safety_settings = [\n",
    "        {\"category\": \"HARM_CATEGORY_HARASSMENT\", \"threshold\": \"BLOCK_ONLY_HIGH\"},\n",
    "        {\"category\": \"HARM_CATEGORY_HATE_SPEECH\", \"threshold\": \"BLOCK_ONLY_HIGH\"},\n",
    "        {\"category\": \"HARM_CATEGORY_SEXUALLY_EXPLICIT\", \"threshold\": \"BLOCK_ONLY_HIGH\"},\n",
    "        {\"category\": \"HARM_CATEGORY_DANGEROUS_CONTENT\", \"threshold\": \"BLOCK_ONLY_HIGH\"},\n",
    "    ]\n",
    "\n",
    "    try:\n",
    "        model = genai.GenerativeModel(model_name=\"gemini-pro\",\n",
    "                                    generation_config=generation_config,\n",
    "                                    safety_settings=safety_settings)\n",
    "\n",
    "        response = model.generate_content(prompt)\n",
    "        return response.text\n",
    "    except Exception as e:\n",
    "        print(\"An error occurred during content generation:\", e)\n",
    "        return \"\""
   ]
  },
  {
   "cell_type": "code",
   "execution_count": null,
   "id": "b4663305",
   "metadata": {
    "execution": {
     "iopub.execute_input": "2024-01-25T18:32:49.820669Z",
     "iopub.status.busy": "2024-01-25T18:32:49.819604Z",
     "iopub.status.idle": "2024-01-25T18:32:50.103674Z",
     "shell.execute_reply": "2024-01-25T18:32:50.102313Z"
    },
    "papermill": {
     "duration": 0.294298,
     "end_time": "2024-01-25T18:32:50.105919",
     "exception": false,
     "start_time": "2024-01-25T18:32:49.811621",
     "status": "completed"
    },
    "tags": []
   },
   "outputs": [],
   "source": [
    "df = pd.read_csv(file_path, header=None)\n",
    "random_row = random.randint(0, len(df) - 1) \n",
    "random_topic = df.iloc[random_row, 0]\n",
    "\n",
    "posted = 0\n",
    "max_results=1\n",
    "query = random_topic\n",
    "titles, ids = youtube_search(query, max_results)"
   ]
  },
  {
   "cell_type": "code",
   "execution_count": null,
   "id": "421168fa",
   "metadata": {
    "execution": {
     "iopub.execute_input": "2024-01-25T18:32:50.121459Z",
     "iopub.status.busy": "2024-01-25T18:32:50.120523Z",
     "iopub.status.idle": "2024-01-25T18:33:12.704822Z",
     "shell.execute_reply": "2024-01-25T18:33:12.703380Z"
    },
    "papermill": {
     "duration": 22.594681,
     "end_time": "2024-01-25T18:33:12.707242",
     "exception": false,
     "start_time": "2024-01-25T18:32:50.112561",
     "status": "completed"
    },
    "tags": []
   },
   "outputs": [],
   "source": [
    "for title, video_id in zip(titles, ids):\n",
    "    transcript = get_transcription(video_id)\n",
    "    if not transcript:\n",
    "        print(\"Skipping video due to lack of transcript.\")\n",
    "        continue\n",
    "        \n",
    "    if posted%2 == 0:\n",
    "        genai.configure(api_key=gemini_1)\n",
    "        print(\"using key 1\")\n",
    "    else:\n",
    "        genai.configure(api_key=gemini_2)\n",
    "        print(\"using key 2\")\n",
    "        \n",
    "    seo_title = generate_content(f\"write a very search friendly seo tittle for a article that is on the topic of {title}, only reply with the tittle you should not add any extra words or line or tag or heading to it, only respond with the SEO Tittle\", 150)\n",
    "    content = generate_content(f\"write a well structured article use H3 subheadings, and points and should around 600 words on the topic -{title} using the contents in -{transcript}, the article should be written like human written must by pass all the AI detection test, and write it in a simple and easy to understand and higly focus on redablity,write it as article, dont metion it is from a video make sure you write it like a human would\", 2048)\n",
    "    faq = generate_content(f\"write a simple Q&A section a article, with various question people might ask for the topis - {seo_title} use the content in -{transcript} the q&a should be well structured use h3 tags for questions, the questions should be what people might search for regarding the topic, the answer should not be more then a line or tow at max\",1024)\n",
    "    slug = seo_title.replace(\" \", \"-\").lower()\n",
    "    html_content = markdown.markdown(content)\n",
    "    faq_content = markdown.markdown(faq)\n",
    "    important_words = find_important_words(seo_title)\n",
    "    if important_words:\n",
    "        search_query = important_words[0]  # Use the first important word for simplicity\n",
    "        print(search_query)\n",
    "        image_url = retrieve_image(search_query)\n",
    "        print(\"Retrieved Image URL:\", image_url)\n",
    "    else:\n",
    "        print(\"No important words found in title for image retrieval.\")\n",
    "    print(\"SEO tittle:\", seo_title)\n",
    "    # print(\"Q&A:\", faq)\n",
    "    # print(\"HTML Content:\", html_content)\n",
    "\n",
    "    imagu = f'<img src=\"{image_url}\" alt=\"{seo_title}\">'\n",
    "    linku = f'''<br><br>\n",
    "If you need any type of assistance, we provide 100% free consultancy and guidance for everyone\n",
    "<a href=\"https://dynoxglobal.com/contact-dynox-global/\" title=\"Contact Dynox Global for free consultancy and guidance\"><u>Click here</u></a>\n",
    "to contact us. To know more about us\n",
    "<a href=\"https://www.wikipedia.com\" title=\"Learn more about us on Wikipedia\"><u>Click Here</u></a>\n",
    "<br><br><h3>Q&A Section:<br></h3>'''\n",
    "\n",
    "    final_content = imagu + html_content + linku + faq_content\n",
    "    final_content.replace(\"H2\", \"H1\")\n",
    "\n",
    "    post = {\n",
    "    'title': f'{seo_title}',\n",
    "    'content': f'''{final_content}''',\n",
    "    'status': 'publish',\n",
    "    'slug': f'{slug}'}\n",
    "\n",
    "    response = requests.post(url, auth=(username, password), json=post)\n",
    "\n",
    "    if response.status_code == 201:\n",
    "        posted += 1\n",
    "        print('Post was published successfully with SEO data!', posted)\n",
    "    else:\n",
    "        print('Failed to publish post:', response.content)"
   ]
  },
  {
   "cell_type": "code",
   "execution_count": null,
   "id": "faffcf0f",
   "metadata": {
    "execution": {
     "iopub.execute_input": "2024-01-25T18:33:12.724043Z",
     "iopub.status.busy": "2024-01-25T18:33:12.723380Z",
     "iopub.status.idle": "2024-01-25T18:33:12.727984Z",
     "shell.execute_reply": "2024-01-25T18:33:12.727206Z"
    },
    "papermill": {
     "duration": 0.015377,
     "end_time": "2024-01-25T18:33:12.730128",
     "exception": false,
     "start_time": "2024-01-25T18:33:12.714751",
     "status": "completed"
    },
    "tags": []
   },
   "outputs": [],
   "source": [
    "#this is comment"
   ]
  }
 ],
 "metadata": {
  "kaggle": {
   "accelerator": "none",
   "dataSources": [
    {
     "datasetId": 4354839,
     "sourceId": 7480958,
     "sourceType": "datasetVersion"
    }
   ],
   "dockerImageVersionId": 30635,
   "isGpuEnabled": false,
   "isInternetEnabled": true,
   "language": "python",
   "sourceType": "notebook"
  },
  "kernelspec": {
   "display_name": "Python 3",
   "language": "python",
   "name": "python3"
  },
  "language_info": {
   "codemirror_mode": {
    "name": "ipython",
    "version": 3
   },
   "file_extension": ".py",
   "mimetype": "text/x-python",
   "name": "python",
   "nbconvert_exporter": "python",
   "pygments_lexer": "ipython3",
   "version": "3.10.12"
  },
  "papermill": {
   "default_parameters": {},
   "duration": 91.284612,
   "end_time": "2024-01-25T18:33:13.558125",
   "environment_variables": {},
   "exception": null,
   "input_path": "__notebook__.ipynb",
   "output_path": "__notebook__.ipynb",
   "parameters": {},
   "start_time": "2024-01-25T18:31:42.273513",
   "version": "2.4.0"
  }
 },
 "nbformat": 4,
 "nbformat_minor": 5
}
